{
 "cells": [
  {
   "cell_type": "code",
   "execution_count": 1,
   "id": "0e2232e1-059a-4eac-ab95-5b96b6586a0a",
   "metadata": {},
   "outputs": [
    {
     "name": "stdout",
     "output_type": "stream",
     "text": [
      "Welcome to Hangman!\n",
      "Guess the word one letter at a time. You have 6 incorrect guesses allowed.\n",
      "_ _ _ _ _ _ _ _\n"
     ]
    },
    {
     "name": "stdin",
     "output_type": "stream",
     "text": [
      "\n",
      "Enter a letter:  h\n"
     ]
    },
    {
     "name": "stdout",
     "output_type": "stream",
     "text": [
      "Incorrect! You have 5 attempts left.\n",
      "_ _ _ _ _ _ _ _\n"
     ]
    },
    {
     "name": "stdin",
     "output_type": "stream",
     "text": [
      "\n",
      "Enter a letter:  a\n"
     ]
    },
    {
     "name": "stdout",
     "output_type": "stream",
     "text": [
      "Correct!\n",
      "_ _ _ _ _ a _ _\n"
     ]
    },
    {
     "name": "stdin",
     "output_type": "stream",
     "text": [
      "\n",
      "Enter a letter:  g\n"
     ]
    },
    {
     "name": "stdout",
     "output_type": "stream",
     "text": [
      "Incorrect! You have 4 attempts left.\n",
      "_ _ _ _ _ a _ _\n"
     ]
    },
    {
     "name": "stdin",
     "output_type": "stream",
     "text": [
      "\n",
      "Enter a letter:  k\n"
     ]
    },
    {
     "name": "stdout",
     "output_type": "stream",
     "text": [
      "Correct!\n",
      "k _ _ _ _ a _ _\n"
     ]
    },
    {
     "name": "stdin",
     "output_type": "stream",
     "text": [
      "\n",
      "Enter a letter:  e\n"
     ]
    },
    {
     "name": "stdout",
     "output_type": "stream",
     "text": [
      "Correct!\n",
      "k e _ _ _ a _ _\n"
     ]
    },
    {
     "name": "stdin",
     "output_type": "stream",
     "text": [
      "\n",
      "Enter a letter:  y\n"
     ]
    },
    {
     "name": "stdout",
     "output_type": "stream",
     "text": [
      "Correct!\n",
      "k e y _ _ a _ _\n"
     ]
    },
    {
     "name": "stdin",
     "output_type": "stream",
     "text": [
      "\n",
      "Enter a letter:  b\n"
     ]
    },
    {
     "name": "stdout",
     "output_type": "stream",
     "text": [
      "Correct!\n",
      "k e y b _ a _ _\n"
     ]
    },
    {
     "name": "stdin",
     "output_type": "stream",
     "text": [
      "\n",
      "Enter a letter:  o\n"
     ]
    },
    {
     "name": "stdout",
     "output_type": "stream",
     "text": [
      "Correct!\n",
      "k e y b o a _ _\n"
     ]
    },
    {
     "name": "stdin",
     "output_type": "stream",
     "text": [
      "\n",
      "Enter a letter:  a\n"
     ]
    },
    {
     "name": "stdout",
     "output_type": "stream",
     "text": [
      "You already guessed 'a'. Try a different letter.\n"
     ]
    },
    {
     "name": "stdin",
     "output_type": "stream",
     "text": [
      "\n",
      "Enter a letter:  r\n"
     ]
    },
    {
     "name": "stdout",
     "output_type": "stream",
     "text": [
      "Correct!\n",
      "k e y b o a r _\n"
     ]
    },
    {
     "name": "stdin",
     "output_type": "stream",
     "text": [
      "\n",
      "Enter a letter:  d\n"
     ]
    },
    {
     "name": "stdout",
     "output_type": "stream",
     "text": [
      "Correct!\n",
      "k e y b o a r d\n",
      "\n",
      "Congratulations! You guessed the word!\n"
     ]
    }
   ],
   "source": [
    "import random\n",
    "\n",
    "def hangman():\n",
    "    \n",
    "    words = [\"python\", \"programming\", \"hangman\", \"computer\", \"keyboard\"]\n",
    "    \n",
    "    \n",
    "    secret_word = random.choice(words)\n",
    "    \n",
    "    \n",
    "    guessed_letters = []\n",
    "    max_attempts = 6\n",
    "    attempts_left = max_attempts\n",
    "    word_progress = [\"_\"] * len(secret_word)\n",
    "    \n",
    "    print(\"Welcome to Hangman!\")\n",
    "    print(\"Guess the word one letter at a time. You have 6 incorrect guesses allowed.\")\n",
    "    print(\" \".join(word_progress))\n",
    "    \n",
    "    while True:\n",
    "        \n",
    "        guess = input(\"\\nEnter a letter: \").lower()\n",
    "        \n",
    "        \n",
    "        if len(guess) != 1 or not guess.isalpha():\n",
    "            print(\"Please enter a single letter.\")\n",
    "            continue\n",
    "        \n",
    "        \n",
    "        if guess in guessed_letters:\n",
    "            print(f\"You already guessed '{guess}'. Try a different letter.\")\n",
    "            continue\n",
    "    \n",
    "        guessed_letters.append(guess)\n",
    "        \n",
    "        \n",
    "        if guess in secret_word:\n",
    "          \n",
    "            for i in range(len(secret_word)):\n",
    "                if secret_word[i] == guess:\n",
    "                    word_progress[i] = guess\n",
    "            print(\"Correct!\")\n",
    "        else:\n",
    "            attempts_left -= 1\n",
    "            print(f\"Incorrect! You have {attempts_left} attempts left.\")\n",
    "        \n",
    "        \n",
    "        print(\" \".join(word_progress))\n",
    "        \n",
    "        \n",
    "        if \"_\" not in word_progress:\n",
    "            print(\"\\nCongratulations! You guessed the word!\")\n",
    "            break\n",
    "            \n",
    "        if attempts_left <= 0:\n",
    "            print(f\"\\nGame over! The word was: {secret_word}\")\n",
    "            break\n",
    "\n",
    "\n",
    "hangman()"
   ]
  },
  {
   "cell_type": "code",
   "execution_count": null,
   "id": "40ae97c9-fb12-4e2b-b630-e6951973b616",
   "metadata": {},
   "outputs": [],
   "source": []
  }
 ],
 "metadata": {
  "kernelspec": {
   "display_name": "Python 3 (ipykernel)",
   "language": "python",
   "name": "python3"
  },
  "language_info": {
   "codemirror_mode": {
    "name": "ipython",
    "version": 3
   },
   "file_extension": ".py",
   "mimetype": "text/x-python",
   "name": "python",
   "nbconvert_exporter": "python",
   "pygments_lexer": "ipython3",
   "version": "3.10.0"
  }
 },
 "nbformat": 4,
 "nbformat_minor": 5
}
